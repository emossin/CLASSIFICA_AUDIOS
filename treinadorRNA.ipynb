{
 "cells": [
  {
   "cell_type": "code",
   "execution_count": 1,
   "id": "d42db40e-b408-4839-9d16-71d7bf4ec727",
   "metadata": {
    "tags": []
   },
   "outputs": [],
   "source": [
    "#pip install librosa"
   ]
  },
  {
   "cell_type": "code",
   "execution_count": 2,
   "id": "24c7278e-7408-499e-bf09-ebe39875e9d6",
   "metadata": {
    "tags": []
   },
   "outputs": [],
   "source": [
    "#pip install tensorflow"
   ]
  },
  {
   "cell_type": "code",
   "execution_count": 3,
   "id": "a08b5e15-f4cc-405e-8bc3-9908bed2e959",
   "metadata": {
    "tags": []
   },
   "outputs": [],
   "source": [
    "#pip install tqdm"
   ]
  },
  {
   "cell_type": "code",
   "execution_count": 4,
   "id": "25a4aa99-9661-4fec-95d4-93bfab1c7ea7",
   "metadata": {
    "tags": []
   },
   "outputs": [],
   "source": [
    "#pip install sklearn"
   ]
  },
  {
   "cell_type": "code",
   "execution_count": 5,
   "id": "10a46fba-e7d5-40ea-ae1b-6f34180f3a8b",
   "metadata": {
    "tags": []
   },
   "outputs": [],
   "source": [
    "#pip install numpy"
   ]
  },
  {
   "cell_type": "code",
   "execution_count": 6,
   "id": "e24cd32d-69e0-4ac1-8659-74aa3d633660",
   "metadata": {
    "tags": []
   },
   "outputs": [],
   "source": [
    "#pip install pandas"
   ]
  },
  {
   "cell_type": "code",
   "execution_count": 7,
   "id": "34747559",
   "metadata": {
    "tags": []
   },
   "outputs": [],
   "source": [
    "import pandas as pd\n",
    "import librosa\n",
    "import numpy as np\n",
    "from sklearn.model_selection import train_test_split\n",
    "import tensorflow as tf\n",
    "import tensorflow.keras.models as models\n",
    "import tensorflow.keras.layers as layers\n",
    "from tensorflow import keras\n",
    "from tqdm import tqdm\n",
    "from sklearn.metrics import confusion_matrix"
   ]
  },
  {
   "cell_type": "code",
   "execution_count": 8,
   "id": "c5d489f2",
   "metadata": {
    "tags": []
   },
   "outputs": [],
   "source": [
    "\n",
    "CSV_FILE_PATH = \"./base/archive/esc50.csv\"\n",
    "DATA_PATH = \"./base/archive/audio/\"\n",
    "\n",
    "df = pd.read_csv(CSV_FILE_PATH, sep=',')"
   ]
  },
  {
   "cell_type": "code",
   "execution_count": 9,
   "id": "7d208daf",
   "metadata": {
    "tags": []
   },
   "outputs": [
    {
     "data": {
      "text/html": [
       "<div>\n",
       "<style scoped>\n",
       "    .dataframe tbody tr th:only-of-type {\n",
       "        vertical-align: middle;\n",
       "    }\n",
       "\n",
       "    .dataframe tbody tr th {\n",
       "        vertical-align: top;\n",
       "    }\n",
       "\n",
       "    .dataframe thead th {\n",
       "        text-align: right;\n",
       "    }\n",
       "</style>\n",
       "<table border=\"1\" class=\"dataframe\">\n",
       "  <thead>\n",
       "    <tr style=\"text-align: right;\">\n",
       "      <th></th>\n",
       "      <th>filename</th>\n",
       "      <th>target</th>\n",
       "      <th>category</th>\n",
       "    </tr>\n",
       "  </thead>\n",
       "  <tbody>\n",
       "    <tr>\n",
       "      <th>0</th>\n",
       "      <td>1-34094-A-5.wav</td>\n",
       "      <td>5</td>\n",
       "      <td>gato</td>\n",
       "    </tr>\n",
       "    <tr>\n",
       "      <th>1</th>\n",
       "      <td>1-34094-B-5.wav</td>\n",
       "      <td>5</td>\n",
       "      <td>gato</td>\n",
       "    </tr>\n",
       "    <tr>\n",
       "      <th>2</th>\n",
       "      <td>1-47819-A-5.wav</td>\n",
       "      <td>5</td>\n",
       "      <td>gato</td>\n",
       "    </tr>\n",
       "    <tr>\n",
       "      <th>3</th>\n",
       "      <td>1-47819-B-5.wav</td>\n",
       "      <td>5</td>\n",
       "      <td>gato</td>\n",
       "    </tr>\n",
       "    <tr>\n",
       "      <th>4</th>\n",
       "      <td>1-47819-C-5.wav</td>\n",
       "      <td>5</td>\n",
       "      <td>gato</td>\n",
       "    </tr>\n",
       "  </tbody>\n",
       "</table>\n",
       "</div>"
      ],
      "text/plain": [
       "          filename  target category\n",
       "0  1-34094-A-5.wav       5     gato\n",
       "1  1-34094-B-5.wav       5     gato\n",
       "2  1-47819-A-5.wav       5     gato\n",
       "3  1-47819-B-5.wav       5     gato\n",
       "4  1-47819-C-5.wav       5     gato"
      ]
     },
     "execution_count": 9,
     "metadata": {},
     "output_type": "execute_result"
    }
   ],
   "source": [
    "df.head()"
   ]
  },
  {
   "cell_type": "code",
   "execution_count": 10,
   "id": "45dfa856",
   "metadata": {
    "tags": []
   },
   "outputs": [
    {
     "data": {
      "text/html": [
       "<div>\n",
       "<style scoped>\n",
       "    .dataframe tbody tr th:only-of-type {\n",
       "        vertical-align: middle;\n",
       "    }\n",
       "\n",
       "    .dataframe tbody tr th {\n",
       "        vertical-align: top;\n",
       "    }\n",
       "\n",
       "    .dataframe thead th {\n",
       "        text-align: right;\n",
       "    }\n",
       "</style>\n",
       "<table border=\"1\" class=\"dataframe\">\n",
       "  <thead>\n",
       "    <tr style=\"text-align: right;\">\n",
       "      <th></th>\n",
       "      <th>target</th>\n",
       "    </tr>\n",
       "  </thead>\n",
       "  <tbody>\n",
       "    <tr>\n",
       "      <th>count</th>\n",
       "      <td>596.000000</td>\n",
       "    </tr>\n",
       "    <tr>\n",
       "      <th>mean</th>\n",
       "      <td>32.895973</td>\n",
       "    </tr>\n",
       "    <tr>\n",
       "      <th>std</th>\n",
       "      <td>46.327072</td>\n",
       "    </tr>\n",
       "    <tr>\n",
       "      <th>min</th>\n",
       "      <td>0.000000</td>\n",
       "    </tr>\n",
       "    <tr>\n",
       "      <th>25%</th>\n",
       "      <td>0.000000</td>\n",
       "    </tr>\n",
       "    <tr>\n",
       "      <th>50%</th>\n",
       "      <td>5.000000</td>\n",
       "    </tr>\n",
       "    <tr>\n",
       "      <th>75%</th>\n",
       "      <td>111.000000</td>\n",
       "    </tr>\n",
       "    <tr>\n",
       "      <th>max</th>\n",
       "      <td>111.000000</td>\n",
       "    </tr>\n",
       "  </tbody>\n",
       "</table>\n",
       "</div>"
      ],
      "text/plain": [
       "           target\n",
       "count  596.000000\n",
       "mean    32.895973\n",
       "std     46.327072\n",
       "min      0.000000\n",
       "25%      0.000000\n",
       "50%      5.000000\n",
       "75%    111.000000\n",
       "max    111.000000"
      ]
     },
     "execution_count": 10,
     "metadata": {},
     "output_type": "execute_result"
    }
   ],
   "source": [
    "df.describe()"
   ]
  },
  {
   "cell_type": "code",
   "execution_count": 11,
   "id": "3bb84c90",
   "metadata": {
    "tags": []
   },
   "outputs": [
    {
     "name": "stdout",
     "output_type": "stream",
     "text": [
      "['gato' 'cachorro' 'batendo_porta' 'silencio']\n"
     ]
    }
   ],
   "source": [
    "\n",
    "classes = df['category'].unique()\n",
    "print(classes)\n",
    "class_dict = {i:x for x,i in enumerate(classes)}\n",
    "\n",
    "class_dict\n",
    "\n",
    "df = df.drop_duplicates(subset=['filename'])\n",
    "\n",
    "df['target'] = df['category'].map(class_dict)\n",
    "\n",
    "X = []\n",
    "y = []"
   ]
  },
  {
   "cell_type": "code",
   "execution_count": 12,
   "id": "a8c4b8d1",
   "metadata": {
    "tags": []
   },
   "outputs": [],
   "source": [
    "df = df.dropna()"
   ]
  },
  {
   "cell_type": "code",
   "execution_count": 13,
   "id": "321e5486",
   "metadata": {
    "tags": []
   },
   "outputs": [
    {
     "data": {
      "text/plain": [
       "array([0, 1, 2, 3], dtype=int64)"
      ]
     },
     "execution_count": 13,
     "metadata": {},
     "output_type": "execute_result"
    }
   ],
   "source": [
    "df['target'].unique()"
   ]
  },
  {
   "cell_type": "code",
   "execution_count": 14,
   "id": "6b3368d2",
   "metadata": {
    "tags": []
   },
   "outputs": [
    {
     "data": {
      "text/plain": [
       "array(['gato', 'cachorro', 'batendo_porta', 'silencio'], dtype=object)"
      ]
     },
     "execution_count": 14,
     "metadata": {},
     "output_type": "execute_result"
    }
   ],
   "source": [
    "df['category'].unique()"
   ]
  },
  {
   "cell_type": "code",
   "execution_count": 15,
   "id": "e4bab83c",
   "metadata": {
    "tags": []
   },
   "outputs": [
    {
     "data": {
      "text/html": [
       "<div>\n",
       "<style scoped>\n",
       "    .dataframe tbody tr th:only-of-type {\n",
       "        vertical-align: middle;\n",
       "    }\n",
       "\n",
       "    .dataframe tbody tr th {\n",
       "        vertical-align: top;\n",
       "    }\n",
       "\n",
       "    .dataframe thead th {\n",
       "        text-align: right;\n",
       "    }\n",
       "</style>\n",
       "<table border=\"1\" class=\"dataframe\">\n",
       "  <thead>\n",
       "    <tr style=\"text-align: right;\">\n",
       "      <th></th>\n",
       "      <th>filename</th>\n",
       "      <th>target</th>\n",
       "      <th>category</th>\n",
       "    </tr>\n",
       "  </thead>\n",
       "  <tbody>\n",
       "    <tr>\n",
       "      <th>485</th>\n",
       "      <td>silencio40.wav</td>\n",
       "      <td>3</td>\n",
       "      <td>silencio</td>\n",
       "    </tr>\n",
       "    <tr>\n",
       "      <th>464</th>\n",
       "      <td>silencio19.wav</td>\n",
       "      <td>3</td>\n",
       "      <td>silencio</td>\n",
       "    </tr>\n",
       "    <tr>\n",
       "      <th>116</th>\n",
       "      <td>5-250026-B-30.wav</td>\n",
       "      <td>2</td>\n",
       "      <td>batendo_porta</td>\n",
       "    </tr>\n",
       "    <tr>\n",
       "      <th>46</th>\n",
       "      <td>1-85362-A-0.wav</td>\n",
       "      <td>1</td>\n",
       "      <td>cachorro</td>\n",
       "    </tr>\n",
       "    <tr>\n",
       "      <th>531</th>\n",
       "      <td>silencio86.wav</td>\n",
       "      <td>3</td>\n",
       "      <td>silencio</td>\n",
       "    </tr>\n",
       "    <tr>\n",
       "      <th>471</th>\n",
       "      <td>silencio26.wav</td>\n",
       "      <td>3</td>\n",
       "      <td>silencio</td>\n",
       "    </tr>\n",
       "    <tr>\n",
       "      <th>577</th>\n",
       "      <td>silencio132.wav</td>\n",
       "      <td>3</td>\n",
       "      <td>silencio</td>\n",
       "    </tr>\n",
       "    <tr>\n",
       "      <th>495</th>\n",
       "      <td>silencio50.wav</td>\n",
       "      <td>3</td>\n",
       "      <td>silencio</td>\n",
       "    </tr>\n",
       "    <tr>\n",
       "      <th>82</th>\n",
       "      <td>1-103999-A-30.wav</td>\n",
       "      <td>2</td>\n",
       "      <td>batendo_porta</td>\n",
       "    </tr>\n",
       "    <tr>\n",
       "      <th>494</th>\n",
       "      <td>silencio49.wav</td>\n",
       "      <td>3</td>\n",
       "      <td>silencio</td>\n",
       "    </tr>\n",
       "  </tbody>\n",
       "</table>\n",
       "</div>"
      ],
      "text/plain": [
       "              filename  target       category\n",
       "485     silencio40.wav       3       silencio\n",
       "464     silencio19.wav       3       silencio\n",
       "116  5-250026-B-30.wav       2  batendo_porta\n",
       "46     1-85362-A-0.wav       1       cachorro\n",
       "531     silencio86.wav       3       silencio\n",
       "471     silencio26.wav       3       silencio\n",
       "577    silencio132.wav       3       silencio\n",
       "495     silencio50.wav       3       silencio\n",
       "82   1-103999-A-30.wav       2  batendo_porta\n",
       "494     silencio49.wav       3       silencio"
      ]
     },
     "execution_count": 15,
     "metadata": {},
     "output_type": "execute_result"
    }
   ],
   "source": [
    "df.sample(10)"
   ]
  },
  {
   "cell_type": "code",
   "execution_count": 16,
   "id": "eb0a997c",
   "metadata": {
    "tags": []
   },
   "outputs": [
    {
     "name": "stderr",
     "output_type": "stream",
     "text": [
      "Progress: 6it [00:03,  2.02it/s]"
     ]
    },
    {
     "name": "stdout",
     "output_type": "stream",
     "text": [
      "1 de 294\n",
      "2 de 294\n",
      "3 de 294\n",
      "4 de 294\n",
      "5 de 294\n",
      "6 de 294\n",
      "7 de 294\n",
      "8 de 294\n",
      "9 de 294\n",
      "10 de 294\n"
     ]
    },
    {
     "name": "stderr",
     "output_type": "stream",
     "text": [
      "Progress: 16it [00:04,  7.24it/s]"
     ]
    },
    {
     "name": "stdout",
     "output_type": "stream",
     "text": [
      "11 de 294\n",
      "12 de 294\n",
      "13 de 294\n",
      "14 de 294\n",
      "15 de 294\n",
      "16 de 294\n",
      "17 de 294\n",
      "18 de 294\n",
      "19 de 294\n",
      "20 de 294\n"
     ]
    },
    {
     "name": "stderr",
     "output_type": "stream",
     "text": [
      "Progress: 26it [00:04, 14.82it/s]"
     ]
    },
    {
     "name": "stdout",
     "output_type": "stream",
     "text": [
      "21 de 294\n",
      "22 de 294\n",
      "23 de 294\n",
      "24 de 294\n",
      "25 de 294\n",
      "26 de 294\n",
      "27 de 294\n",
      "28 de 294\n",
      "29 de 294\n",
      "30 de 294\n"
     ]
    },
    {
     "name": "stderr",
     "output_type": "stream",
     "text": [
      "Progress: 36it [00:04, 23.74it/s]"
     ]
    },
    {
     "name": "stdout",
     "output_type": "stream",
     "text": [
      "31 de 294\n",
      "32 de 294\n",
      "33 de 294\n",
      "34 de 294\n",
      "35 de 294\n",
      "36 de 294\n",
      "37 de 294\n",
      "38 de 294\n",
      "39 de 294\n",
      "40 de 294\n",
      "41 de 294\n"
     ]
    },
    {
     "name": "stderr",
     "output_type": "stream",
     "text": [
      "Progress: 52it [00:04, 37.42it/s]"
     ]
    },
    {
     "name": "stdout",
     "output_type": "stream",
     "text": [
      "42 de 294\n",
      "43 de 294\n",
      "44 de 294\n",
      "45 de 294\n",
      "46 de 294\n",
      "47 de 294\n",
      "48 de 294\n",
      "49 de 294\n",
      "50 de 294\n",
      "51 de 294\n",
      "52 de 294\n"
     ]
    },
    {
     "name": "stderr",
     "output_type": "stream",
     "text": [
      "Progress: 63it [00:05, 43.19it/s]"
     ]
    },
    {
     "name": "stdout",
     "output_type": "stream",
     "text": [
      "53 de 294\n",
      "54 de 294\n",
      "55 de 294\n",
      "56 de 294\n",
      "57 de 294\n",
      "58 de 294\n",
      "59 de 294\n",
      "60 de 294\n",
      "61 de 294\n",
      "62 de 294\n",
      "63 de 294\n"
     ]
    },
    {
     "name": "stderr",
     "output_type": "stream",
     "text": [
      "\r",
      "Progress: 68it [00:05, 43.95it/s]"
     ]
    },
    {
     "name": "stdout",
     "output_type": "stream",
     "text": [
      "64 de 294\n",
      "65 de 294\n",
      "66 de 294\n",
      "67 de 294\n",
      "68 de 294\n",
      "69 de 294\n",
      "70 de 294\n",
      "71 de 294\n",
      "72 de 294\n",
      "73 de 294\n"
     ]
    },
    {
     "name": "stderr",
     "output_type": "stream",
     "text": [
      "Progress: 79it [00:05, 46.34it/s]"
     ]
    },
    {
     "name": "stdout",
     "output_type": "stream",
     "text": [
      "74 de 294\n",
      "75 de 294\n",
      "76 de 294\n",
      "77 de 294\n",
      "78 de 294\n",
      "79 de 294\n",
      "80 de 294\n",
      "81 de 294\n",
      "82 de 294\n",
      "83 de 294\n",
      "84 de 294\n"
     ]
    },
    {
     "name": "stderr",
     "output_type": "stream",
     "text": [
      "Progress: 90it [00:05, 45.46it/s]"
     ]
    },
    {
     "name": "stdout",
     "output_type": "stream",
     "text": [
      "85 de 294\n",
      "86 de 294\n",
      "87 de 294\n",
      "88 de 294\n",
      "89 de 294\n",
      "90 de 294\n",
      "91 de 294\n",
      "92 de 294\n",
      "93 de 294\n"
     ]
    },
    {
     "name": "stderr",
     "output_type": "stream",
     "text": [
      "Progress: 100it [00:05, 42.93it/s]"
     ]
    },
    {
     "name": "stdout",
     "output_type": "stream",
     "text": [
      "94 de 294\n",
      "95 de 294\n",
      "96 de 294\n",
      "97 de 294\n",
      "98 de 294\n",
      "99 de 294\n",
      "100 de 294\n",
      "101 de 294\n",
      "102 de 294\n"
     ]
    },
    {
     "name": "stderr",
     "output_type": "stream",
     "text": [
      "Progress: 110it [00:06, 44.09it/s]"
     ]
    },
    {
     "name": "stdout",
     "output_type": "stream",
     "text": [
      "103 de 294\n",
      "104 de 294\n",
      "105 de 294\n",
      "106 de 294\n",
      "107 de 294\n",
      "108 de 294\n",
      "109 de 294\n",
      "110 de 294\n",
      "111 de 294\n",
      "112 de 294\n"
     ]
    },
    {
     "name": "stderr",
     "output_type": "stream",
     "text": [
      "Progress: 120it [00:06, 44.64it/s]"
     ]
    },
    {
     "name": "stdout",
     "output_type": "stream",
     "text": [
      "113 de 294\n",
      "114 de 294\n",
      "115 de 294\n",
      "116 de 294\n",
      "117 de 294\n",
      "118 de 294\n",
      "119 de 294\n",
      "120 de 294\n",
      "121 de 294\n"
     ]
    },
    {
     "name": "stderr",
     "output_type": "stream",
     "text": [
      "\r",
      "Progress: 125it [00:06, 40.04it/s]"
     ]
    },
    {
     "name": "stdout",
     "output_type": "stream",
     "text": [
      "122 de 294\n",
      "123 de 294\n",
      "124 de 294\n",
      "125 de 294\n",
      "126 de 294\n",
      "127 de 294\n",
      "128 de 294\n"
     ]
    },
    {
     "name": "stderr",
     "output_type": "stream",
     "text": [
      "Progress: 134it [00:06, 35.50it/s]"
     ]
    },
    {
     "name": "stdout",
     "output_type": "stream",
     "text": [
      "129 de 294\n",
      "130 de 294\n",
      "131 de 294\n",
      "132 de 294\n",
      "133 de 294\n",
      "134 de 294\n",
      "135 de 294\n"
     ]
    },
    {
     "name": "stderr",
     "output_type": "stream",
     "text": [
      "\r",
      "Progress: 138it [00:06, 34.59it/s]"
     ]
    },
    {
     "name": "stdout",
     "output_type": "stream",
     "text": [
      "136 de 294\n",
      "137 de 294\n",
      "138 de 294\n",
      "139 de 294\n",
      "140 de 294\n",
      "141 de 294\n",
      "142 de 294\n"
     ]
    },
    {
     "name": "stderr",
     "output_type": "stream",
     "text": [
      "Progress: 150it [00:07, 34.24it/s]"
     ]
    },
    {
     "name": "stdout",
     "output_type": "stream",
     "text": [
      "143 de 294\n",
      "144 de 294\n",
      "145 de 294\n",
      "146 de 294\n",
      "147 de 294\n",
      "148 de 294\n",
      "149 de 294\n",
      "150 de 294\n"
     ]
    },
    {
     "name": "stderr",
     "output_type": "stream",
     "text": [
      "\r",
      "Progress: 154it [00:07, 34.64it/s]"
     ]
    },
    {
     "name": "stdout",
     "output_type": "stream",
     "text": [
      "151 de 294\n",
      "152 de 294\n",
      "153 de 294\n",
      "154 de 294\n",
      "155 de 294\n",
      "156 de 294\n",
      "157 de 294\n"
     ]
    },
    {
     "name": "stderr",
     "output_type": "stream",
     "text": [
      "Progress: 162it [00:07, 32.60it/s]"
     ]
    },
    {
     "name": "stdout",
     "output_type": "stream",
     "text": [
      "158 de 294\n",
      "159 de 294\n",
      "160 de 294\n",
      "161 de 294\n",
      "162 de 294\n",
      "163 de 294\n",
      "164 de 294\n"
     ]
    },
    {
     "name": "stderr",
     "output_type": "stream",
     "text": [
      "Progress: 170it [00:07, 33.34it/s]"
     ]
    },
    {
     "name": "stdout",
     "output_type": "stream",
     "text": [
      "165 de 294\n",
      "166 de 294\n",
      "167 de 294\n",
      "168 de 294\n",
      "169 de 294\n",
      "170 de 294\n",
      "171 de 294\n",
      "172 de 294\n"
     ]
    },
    {
     "name": "stderr",
     "output_type": "stream",
     "text": [
      "Progress: 178it [00:08, 30.69it/s]"
     ]
    },
    {
     "name": "stdout",
     "output_type": "stream",
     "text": [
      "173 de 294\n",
      "174 de 294\n",
      "175 de 294\n",
      "176 de 294\n",
      "177 de 294\n",
      "178 de 294\n"
     ]
    },
    {
     "name": "stderr",
     "output_type": "stream",
     "text": [
      "\r",
      "Progress: 182it [00:08, 29.97it/s]"
     ]
    },
    {
     "name": "stdout",
     "output_type": "stream",
     "text": [
      "179 de 294\n",
      "180 de 294\n",
      "181 de 294\n",
      "182 de 294\n",
      "183 de 294\n",
      "184 de 294\n",
      "185 de 294\n"
     ]
    },
    {
     "name": "stderr",
     "output_type": "stream",
     "text": [
      "Progress: 190it [00:08, 31.08it/s]"
     ]
    },
    {
     "name": "stdout",
     "output_type": "stream",
     "text": [
      "186 de 294\n",
      "187 de 294\n",
      "188 de 294\n",
      "189 de 294\n",
      "190 de 294\n",
      "191 de 294\n",
      "192 de 294\n"
     ]
    },
    {
     "name": "stderr",
     "output_type": "stream",
     "text": [
      "Progress: 198it [00:08, 32.42it/s]"
     ]
    },
    {
     "name": "stdout",
     "output_type": "stream",
     "text": [
      "193 de 294\n",
      "194 de 294\n",
      "195 de 294\n",
      "196 de 294\n",
      "197 de 294\n",
      "198 de 294\n",
      "199 de 294\n",
      "200 de 294\n"
     ]
    },
    {
     "name": "stderr",
     "output_type": "stream",
     "text": [
      "Progress: 206it [00:09, 32.18it/s]"
     ]
    },
    {
     "name": "stdout",
     "output_type": "stream",
     "text": [
      "201 de 294\n",
      "202 de 294\n",
      "203 de 294\n",
      "204 de 294\n",
      "205 de 294\n",
      "206 de 294\n",
      "207 de 294\n"
     ]
    },
    {
     "name": "stderr",
     "output_type": "stream",
     "text": [
      "Progress: 215it [00:09, 34.46it/s]"
     ]
    },
    {
     "name": "stdout",
     "output_type": "stream",
     "text": [
      "208 de 294\n",
      "209 de 294\n",
      "210 de 294\n",
      "211 de 294\n",
      "212 de 294\n",
      "213 de 294\n",
      "214 de 294\n",
      "215 de 294\n"
     ]
    },
    {
     "name": "stderr",
     "output_type": "stream",
     "text": [
      "\r",
      "Progress: 219it [00:09, 34.84it/s]"
     ]
    },
    {
     "name": "stdout",
     "output_type": "stream",
     "text": [
      "216 de 294\n",
      "217 de 294\n",
      "218 de 294\n",
      "219 de 294\n",
      "220 de 294\n",
      "221 de 294\n",
      "222 de 294\n"
     ]
    },
    {
     "name": "stderr",
     "output_type": "stream",
     "text": [
      "Progress: 227it [00:09, 32.85it/s]"
     ]
    },
    {
     "name": "stdout",
     "output_type": "stream",
     "text": [
      "223 de 294\n",
      "224 de 294\n",
      "225 de 294\n",
      "226 de 294\n",
      "227 de 294\n",
      "228 de 294\n",
      "229 de 294\n"
     ]
    },
    {
     "name": "stderr",
     "output_type": "stream",
     "text": [
      "Progress: 235it [00:09, 32.37it/s]"
     ]
    },
    {
     "name": "stdout",
     "output_type": "stream",
     "text": [
      "230 de 294\n",
      "231 de 294\n",
      "232 de 294\n",
      "233 de 294\n",
      "234 de 294\n",
      "235 de 294\n",
      "236 de 294\n"
     ]
    },
    {
     "name": "stderr",
     "output_type": "stream",
     "text": [
      "Progress: 243it [00:10, 31.66it/s]"
     ]
    },
    {
     "name": "stdout",
     "output_type": "stream",
     "text": [
      "237 de 294\n",
      "238 de 294\n",
      "239 de 294\n",
      "240 de 294\n",
      "241 de 294\n",
      "242 de 294\n",
      "243 de 294\n"
     ]
    },
    {
     "name": "stderr",
     "output_type": "stream",
     "text": [
      "\r",
      "Progress: 247it [00:10, 31.49it/s]"
     ]
    },
    {
     "name": "stdout",
     "output_type": "stream",
     "text": [
      "244 de 294\n",
      "245 de 294\n",
      "246 de 294\n",
      "247 de 294\n",
      "248 de 294\n",
      "249 de 294\n"
     ]
    },
    {
     "name": "stderr",
     "output_type": "stream",
     "text": [
      "Progress: 255it [00:10, 29.69it/s]"
     ]
    },
    {
     "name": "stdout",
     "output_type": "stream",
     "text": [
      "250 de 294\n",
      "251 de 294\n",
      "252 de 294\n",
      "253 de 294\n",
      "254 de 294\n",
      "255 de 294\n"
     ]
    },
    {
     "name": "stderr",
     "output_type": "stream",
     "text": [
      "Progress: 261it [00:10, 28.43it/s]"
     ]
    },
    {
     "name": "stdout",
     "output_type": "stream",
     "text": [
      "256 de 294\n",
      "257 de 294\n",
      "258 de 294\n",
      "259 de 294\n",
      "260 de 294\n",
      "261 de 294\n"
     ]
    },
    {
     "name": "stderr",
     "output_type": "stream",
     "text": [
      "\r",
      "Progress: 265it [00:10, 29.38it/s]"
     ]
    },
    {
     "name": "stdout",
     "output_type": "stream",
     "text": [
      "262 de 294\n",
      "263 de 294\n",
      "264 de 294\n",
      "265 de 294\n",
      "266 de 294\n",
      "267 de 294\n",
      "268 de 294\n"
     ]
    },
    {
     "name": "stderr",
     "output_type": "stream",
     "text": [
      "Progress: 273it [00:11, 29.54it/s]"
     ]
    },
    {
     "name": "stdout",
     "output_type": "stream",
     "text": [
      "269 de 294\n",
      "270 de 294\n",
      "271 de 294\n",
      "272 de 294\n",
      "273 de 294\n",
      "274 de 294\n"
     ]
    },
    {
     "name": "stderr",
     "output_type": "stream",
     "text": [
      "Progress: 280it [00:11, 29.39it/s]"
     ]
    },
    {
     "name": "stdout",
     "output_type": "stream",
     "text": [
      "275 de 294\n",
      "276 de 294\n",
      "277 de 294\n",
      "278 de 294\n",
      "279 de 294\n",
      "280 de 294\n",
      "281 de 294\n"
     ]
    },
    {
     "name": "stderr",
     "output_type": "stream",
     "text": [
      "Progress: 286it [00:11, 28.90it/s]"
     ]
    },
    {
     "name": "stdout",
     "output_type": "stream",
     "text": [
      "282 de 294\n",
      "283 de 294\n",
      "284 de 294\n",
      "285 de 294\n",
      "286 de 294\n",
      "287 de 294\n"
     ]
    },
    {
     "name": "stderr",
     "output_type": "stream",
     "text": [
      "Progress: 294it [00:11, 24.53it/s]"
     ]
    },
    {
     "name": "stdout",
     "output_type": "stream",
     "text": [
      "288 de 294\n",
      "289 de 294\n",
      "290 de 294\n",
      "291 de 294\n",
      "292 de 294\n",
      "293 de 294\n",
      "294 de 294\n"
     ]
    },
    {
     "name": "stderr",
     "output_type": "stream",
     "text": [
      "\n"
     ]
    }
   ],
   "source": [
    "index = 0\n",
    "dfLen = df.shape[0]\n",
    "for data in tqdm(df.iterrows(),  desc='Progress'):\n",
    "    sig , sr = librosa.load(DATA_PATH+data[1][0])  \n",
    "    mfcc_ = librosa.feature.mfcc(y=sig, sr=sr, n_mfcc=40)\n",
    "    X.append(mfcc_)\n",
    "    y.append(data[1][1])\n",
    "    index = index+1\n",
    "    print(str(index) + \" de \" + str(dfLen))"
   ]
  },
  {
   "cell_type": "code",
   "execution_count": 17,
   "id": "343227ae",
   "metadata": {
    "tags": []
   },
   "outputs": [
    {
     "name": "stdout",
     "output_type": "stream",
     "text": [
      "[0 0 0 0 0 0 0 0 0 0 0 0 0 0 0 0 0 0 0 0 0 0 0 0 0 0 0 0 0 0 0 0 0 0 0 0 0\n",
      " 0 0 0 1 1 1 1 1 1 1 1 1 1 1 1 1 1 1 1 1 1 1 1 1 1 1 1 1 1 1 1 1 1 1 1 1 1\n",
      " 1 1 1 1 1 1 2 2 2 2 2 2 2 2 2 2 2 2 2 2 2 2 2 2 2 2 2 2 2 2 2 2 2 2 2 2 2\n",
      " 2 2 2 2 2 2 2 2 2 2 2 2 2 2 2 2 2 2 2 2 2 2 2 2 2 2 2 2 2 2 2 2 3 3 3 3 3\n",
      " 3 3 3 3 3 3 3 3 3 3 3 3 3 3 3 3 3 3 3 3 3 3 3 3 3 3 3 3 3 3 3 3 3 3 3 3 3\n",
      " 3 3 3 3 3 3 3 3 3 3 3 3 3 3 3 3 3 3 3 3 3 3 3 3 3 3 3 3 3 3 3 3 3 3 3 3 3\n",
      " 3 3 3 3 3 3 3 3 3 3 3 3 3 3 3 3 3 3 3 3 3 3 3 3 3 3 3 3 3 3 3 3 3 3 3 3 3\n",
      " 3 3 3 3 3 3 3 3 3 3 3 3 3 3 3 3 3 3 3 3 3 3 3 3 3 3 3 3 3 3 3 3 3 3 3]\n"
     ]
    }
   ],
   "source": [
    "X = np.array(X)\n",
    "y = np.array(y)\n",
    "print(y)"
   ]
  },
  {
   "cell_type": "code",
   "execution_count": 18,
   "id": "a5701cfd",
   "metadata": {
    "tags": []
   },
   "outputs": [
    {
     "name": "stdout",
     "output_type": "stream",
     "text": [
      "[0 0 0 0 0 0 0 0 0 0 0 0 0 0 0 0 0 0 0 0 0 0 0 0 0 0 0 0 0 0 0 0 0 0 0 0 0\n",
      " 0 0 0 1 1 1 1 1 1 1 1 1 1 1 1 1 1 1 1 1 1 1 1 1 1 1 1 1 1 1 1 1 1 1 1 1 1\n",
      " 1 1 1 1 1 1 2 2 2 2 2 2 2 2 2 2 2 2 2 2 2 2 2 2 2 2 2 2 2 2 2 2 2 2 2 2 2\n",
      " 2 2 2 2 2 2 2 2 2 2 2 2 2 2 2 2 2 2 2 2 2 2 2 2 2 2 2 2 2 2 2 2 3 3 3 3 3\n",
      " 3 3 3 3 3 3 3 3 3 3 3 3 3 3 3 3 3 3 3 3 3 3 3 3 3 3 3 3 3 3 3 3 3 3 3 3 3\n",
      " 3 3 3 3 3 3 3 3 3 3 3 3 3 3 3 3 3 3 3 3 3 3 3 3 3 3 3 3 3 3 3 3 3 3 3 3 3\n",
      " 3 3 3 3 3 3 3 3 3 3 3 3 3 3 3 3 3 3 3 3 3 3 3 3 3 3 3 3 3 3 3 3 3 3 3 3 3\n",
      " 3 3 3 3 3 3 3 3 3 3 3 3 3 3 3 3 3 3 3 3 3 3 3 3 3 3 3 3 3 3 3 3 3 3 3]\n"
     ]
    },
    {
     "data": {
      "text/plain": [
       "array([[1., 0., 0., ..., 0., 0., 0.],\n",
       "       [1., 0., 0., ..., 0., 0., 0.],\n",
       "       [1., 0., 0., ..., 0., 0., 0.],\n",
       "       ...,\n",
       "       [0., 0., 0., ..., 0., 0., 0.],\n",
       "       [0., 0., 0., ..., 0., 0., 0.],\n",
       "       [0., 0., 0., ..., 0., 0., 0.]], dtype=float32)"
      ]
     },
     "execution_count": 18,
     "metadata": {},
     "output_type": "execute_result"
    }
   ],
   "source": [
    "\n",
    "print(y)\n",
    "num_classes=9\n",
    "y = tf.keras.utils.to_categorical(y, num_classes)\n",
    "y"
   ]
  },
  {
   "cell_type": "code",
   "execution_count": 19,
   "id": "43a90e5b",
   "metadata": {
    "tags": []
   },
   "outputs": [
    {
     "name": "stdout",
     "output_type": "stream",
     "text": [
      "tf.Tensor(\n",
      "[0 0 0 0 0 0 0 0 0 0 0 0 0 0 0 0 0 0 0 0 0 0 0 0 0 0 0 0 0 0 0 0 0 0 0 0 0\n",
      " 0 0 0 1 1 1 1 1 1 1 1 1 1 1 1 1 1 1 1 1 1 1 1 1 1 1 1 1 1 1 1 1 1 1 1 1 1\n",
      " 1 1 1 1 1 1 2 2 2 2 2 2 2 2 2 2 2 2 2 2 2 2 2 2 2 2 2 2 2 2 2 2 2 2 2 2 2\n",
      " 2 2 2 2 2 2 2 2 2 2 2 2 2 2 2 2 2 2 2 2 2 2 2 2 2 2 2 2 2 2 2 2 3 3 3 3 3\n",
      " 3 3 3 3 3 3 3 3 3 3 3 3 3 3 3 3 3 3 3 3 3 3 3 3 3 3 3 3 3 3 3 3 3 3 3 3 3\n",
      " 3 3 3 3 3 3 3 3 3 3 3 3 3 3 3 3 3 3 3 3 3 3 3 3 3 3 3 3 3 3 3 3 3 3 3 3 3\n",
      " 3 3 3 3 3 3 3 3 3 3 3 3 3 3 3 3 3 3 3 3 3 3 3 3 3 3 3 3 3 3 3 3 3 3 3 3 3\n",
      " 3 3 3 3 3 3 3 3 3 3 3 3 3 3 3 3 3 3 3 3 3 3 3 3 3 3 3 3 3 3 3 3 3 3 3], shape=(294,), dtype=int64)\n"
     ]
    }
   ],
   "source": [
    "label = tf.math.argmax(y, axis=1)\n",
    "print(label)"
   ]
  },
  {
   "cell_type": "code",
   "execution_count": 20,
   "id": "a0f50266",
   "metadata": {
    "tags": []
   },
   "outputs": [
    {
     "name": "stdout",
     "output_type": "stream",
     "text": [
      "Model: \"sequential\"\n",
      "_________________________________________________________________\n",
      " Layer (type)                Output Shape              Param #   \n",
      "=================================================================\n",
      " conv2d (Conv2D)             (None, 38, 214, 32)       320       \n",
      "                                                                 \n",
      " batch_normalization (Batch  (None, 38, 214, 32)       128       \n",
      " Normalization)                                                  \n",
      "                                                                 \n",
      " max_pooling2d (MaxPooling2  (None, 19, 107, 32)       0         \n",
      " D)                                                              \n",
      "                                                                 \n",
      " conv2d_1 (Conv2D)           (None, 17, 105, 128)      36992     \n",
      "                                                                 \n",
      " max_pooling2d_1 (MaxPoolin  (None, 9, 53, 128)        0         \n",
      " g2D)                                                            \n",
      "                                                                 \n",
      " dropout (Dropout)           (None, 9, 53, 128)        0         \n",
      "                                                                 \n",
      " conv2d_2 (Conv2D)           (None, 7, 51, 128)        147584    \n",
      "                                                                 \n",
      " max_pooling2d_2 (MaxPoolin  (None, 4, 26, 128)        0         \n",
      " g2D)                                                            \n",
      "                                                                 \n",
      " dropout_1 (Dropout)         (None, 4, 26, 128)        0         \n",
      "                                                                 \n",
      " global_average_pooling2d (  (None, 128)               0         \n",
      " GlobalAveragePooling2D)                                         \n",
      "                                                                 \n",
      " dense (Dense)               (None, 512)               66048     \n",
      "                                                                 \n",
      " dense_1 (Dense)             (None, 9)                 4617      \n",
      "                                                                 \n",
      "=================================================================\n",
      "Total params: 255689 (998.79 KB)\n",
      "Trainable params: 255625 (998.54 KB)\n",
      "Non-trainable params: 64 (256.00 Byte)\n",
      "_________________________________________________________________\n"
     ]
    }
   ],
   "source": [
    "\n",
    "X = X.reshape(X.shape[0], X.shape[1], X.shape[2], 1)\n",
    "\n",
    "X_train, X_test, y_train, y_test = train_test_split(X, y, test_size=0.25)\n",
    "\n",
    "\n",
    "\n",
    "\n",
    "\n",
    "INPUTSHAPE = (40,216,1)\n",
    "\n",
    "model = models.Sequential([\n",
    "    layers.Conv2D(32, (3, 3), activation='relu', padding='valid', input_shape=INPUTSHAPE),\n",
    "    layers.BatchNormalization(),\n",
    "    layers.MaxPooling2D(2, padding='same'),\n",
    "    layers.Conv2D(128, (3, 3), activation='relu', padding='valid'),\n",
    "    layers.MaxPooling2D(2, padding='same'),\n",
    "    layers.Dropout(0.3),\n",
    "    layers.Conv2D(128, (3, 3), activation='relu', padding='valid'),\n",
    "    layers.MaxPooling2D(2, padding='same'),\n",
    "    layers.Dropout(0.3),\n",
    "    layers.GlobalAveragePooling2D(),\n",
    "    layers.Dense(512, activation='relu'),\n",
    "    layers.Dense(9, activation='softmax')\n",
    "])\n",
    "\n",
    "model.compile(loss='categorical_crossentropy', optimizer='adam', metrics='acc')\n",
    "model.summary()\n",
    "\n",
    "batch_size = 8\n",
    "callback = tf.keras.callbacks.EarlyStopping(\n",
    "    monitor='val_loss', min_delta=0, patience=8, verbose=0, mode='auto',\n",
    "    baseline=None, restore_best_weights=False)"
   ]
  },
  {
   "cell_type": "code",
   "execution_count": 29,
   "id": "796db9b5",
   "metadata": {},
   "outputs": [],
   "source": [
    "X_train, X_test, y_train, y_test = train_test_split(X, y, test_size=0.25)"
   ]
  },
  {
   "cell_type": "code",
   "execution_count": 30,
   "id": "03542370",
   "metadata": {
    "tags": []
   },
   "outputs": [
    {
     "name": "stdout",
     "output_type": "stream",
     "text": [
      "Epoch 1/20\n",
      "28/28 [==============================] - 4s 152ms/step - loss: 0.0304 - acc: 0.9864 - val_loss: 0.0734 - val_acc: 0.9595\n",
      "Epoch 2/20\n",
      "28/28 [==============================] - 4s 148ms/step - loss: 0.0910 - acc: 0.9773 - val_loss: 0.2813 - val_acc: 0.9324\n",
      "Epoch 3/20\n",
      "28/28 [==============================] - 4s 146ms/step - loss: 0.3133 - acc: 0.9000 - val_loss: 0.0758 - val_acc: 0.9730\n",
      "Epoch 4/20\n",
      "28/28 [==============================] - 4s 147ms/step - loss: 0.0847 - acc: 0.9727 - val_loss: 0.1077 - val_acc: 0.9459\n",
      "Epoch 5/20\n",
      "28/28 [==============================] - 4s 148ms/step - loss: 0.0421 - acc: 0.9864 - val_loss: 0.3589 - val_acc: 0.9189\n",
      "Epoch 6/20\n",
      "28/28 [==============================] - 4s 148ms/step - loss: 0.0473 - acc: 0.9818 - val_loss: 0.1080 - val_acc: 0.9595\n",
      "Epoch 7/20\n",
      "28/28 [==============================] - 4s 147ms/step - loss: 0.0141 - acc: 1.0000 - val_loss: 0.0851 - val_acc: 0.9730\n",
      "Epoch 8/20\n",
      "28/28 [==============================] - 4s 151ms/step - loss: 0.0115 - acc: 0.9955 - val_loss: 0.0891 - val_acc: 0.9595\n",
      "Epoch 9/20\n",
      "28/28 [==============================] - 4s 149ms/step - loss: 0.0099 - acc: 1.0000 - val_loss: 0.0191 - val_acc: 1.0000\n",
      "Epoch 10/20\n",
      "28/28 [==============================] - 4s 148ms/step - loss: 0.0055 - acc: 1.0000 - val_loss: 0.0341 - val_acc: 0.9865\n",
      "Epoch 11/20\n",
      "28/28 [==============================] - 4s 150ms/step - loss: 0.0034 - acc: 1.0000 - val_loss: 0.0363 - val_acc: 0.9865\n",
      "Epoch 12/20\n",
      "28/28 [==============================] - 4s 151ms/step - loss: 0.0013 - acc: 1.0000 - val_loss: 0.0411 - val_acc: 0.9865\n",
      "Epoch 13/20\n",
      "28/28 [==============================] - 5s 166ms/step - loss: 0.0015 - acc: 1.0000 - val_loss: 0.0453 - val_acc: 0.9865\n",
      "Epoch 14/20\n",
      "28/28 [==============================] - 4s 157ms/step - loss: 0.0012 - acc: 1.0000 - val_loss: 0.0452 - val_acc: 0.9730\n",
      "Epoch 15/20\n",
      "28/28 [==============================] - 4s 150ms/step - loss: 0.0065 - acc: 0.9955 - val_loss: 0.0605 - val_acc: 0.9865\n",
      "Epoch 16/20\n",
      "28/28 [==============================] - 4s 155ms/step - loss: 0.0036 - acc: 1.0000 - val_loss: 0.0788 - val_acc: 0.9730\n",
      "Epoch 17/20\n",
      "28/28 [==============================] - 4s 152ms/step - loss: 0.0608 - acc: 0.9955 - val_loss: 0.0427 - val_acc: 0.9865\n",
      "INFO:tensorflow:Assets written to: modelo.p\\assets\n"
     ]
    },
    {
     "name": "stderr",
     "output_type": "stream",
     "text": [
      "INFO:tensorflow:Assets written to: modelo.p\\assets\n"
     ]
    }
   ],
   "source": [
    "\n",
    "\n",
    "history = model.fit(X_train, y_train,\n",
    "                    validation_data=(X_test, y_test),\n",
    "                    epochs=20,\n",
    "                    callbacks=[callback], batch_size=batch_size)\n",
    "\n",
    "model.save(\"modelo.p\")\n",
    "\n",
    "\n"
   ]
  },
  {
   "cell_type": "code",
   "execution_count": 22,
   "id": "98b618a9",
   "metadata": {
    "tags": []
   },
   "outputs": [
    {
     "name": "stdout",
     "output_type": "stream",
     "text": [
      "3/3 [==============================] - 1s 98ms/step\n"
     ]
    },
    {
     "data": {
      "text/plain": [
       "array([2, 3, 3, 1, 3, 2, 0, 2, 3, 0, 3, 3, 3, 2, 3, 2, 3, 3, 3, 3, 3, 3,\n",
       "       3, 3, 2, 2, 1, 3, 2, 0, 2, 3, 3, 3, 3, 3, 3, 2, 2, 1, 0, 3, 3, 3,\n",
       "       3, 3, 1, 0, 3, 3, 3, 1, 3, 3, 1, 2, 3, 3, 3, 3, 2, 3, 0, 0, 3, 3,\n",
       "       3, 0, 3, 0, 3, 3, 2, 3], dtype=int64)"
      ]
     },
     "execution_count": 22,
     "metadata": {},
     "output_type": "execute_result"
    }
   ],
   "source": [
    "predict_x=model.predict(X_test)\n",
    "y_pred=np.argmax(predict_x,axis=1)\n",
    "y_pred\n"
   ]
  },
  {
   "cell_type": "code",
   "execution_count": 23,
   "id": "261468fb",
   "metadata": {
    "tags": []
   },
   "outputs": [
    {
     "name": "stdout",
     "output_type": "stream",
     "text": [
      "[1 3 3 1 3 2 0 2 3 0 3 3 3 2 3 2 3 3 3 3 3 3 3 3 2 2 1 3 2 0 2 3 3 3 3 3 3\n",
      " 2 2 1 0 3 3 3 3 3 1 0 3 3 3 0 3 3 1 2 3 3 3 3 2 3 0 0 3 3 3 1 3 0 3 3 2 3]\n"
     ]
    }
   ],
   "source": [
    "y_test_integer = tf.math.argmax(y_test, axis=1)\n",
    "y_test_integer_array = y_test_integer.numpy()\n",
    "print(y_test_integer_array)"
   ]
  },
  {
   "cell_type": "code",
   "execution_count": 24,
   "id": "22d2757d",
   "metadata": {
    "tags": []
   },
   "outputs": [
    {
     "name": "stdout",
     "output_type": "stream",
     "text": [
      "[[ 8  1  0  0]\n",
      " [ 1  5  1  0]\n",
      " [ 0  0 13  0]\n",
      " [ 0  0  0 45]]\n"
     ]
    }
   ],
   "source": [
    "cf_matrix = confusion_matrix(y_test_integer_array, y_pred)\n",
    "print(cf_matrix)"
   ]
  },
  {
   "cell_type": "code",
   "execution_count": 25,
   "id": "78ea61d5",
   "metadata": {
    "tags": []
   },
   "outputs": [
    {
     "data": {
      "text/plain": [
       "<Axes: >"
      ]
     },
     "execution_count": 25,
     "metadata": {},
     "output_type": "execute_result"
    },
    {
     "data": {
      "image/png": "[encoded data removed]",
      "text/plain": [
       "<Figure size 640x480 with 2 Axes>"
      ]
     },
     "metadata": {},
     "output_type": "display_data"
    }
   ],
   "source": [
    "import seaborn as sns\n",
    "sns.heatmap(cf_matrix,fmt='.0f', annot=True,xticklabels=df['category'].unique(), yticklabels=df['category'].unique())"
   ]
  },
  {
   "cell_type": "code",
   "execution_count": 26,
   "id": "13211865",
   "metadata": {
    "tags": []
   },
   "outputs": [
    {
     "name": "stdout",
     "output_type": "stream",
     "text": [
      "               precision    recall  f1-score   support\n",
      "\n",
      "         gato       0.89      0.89      0.89         9\n",
      "     cachorro       0.83      0.71      0.77         7\n",
      "batendo_porta       0.93      1.00      0.96        13\n",
      "     silencio       1.00      1.00      1.00        45\n",
      "\n",
      "     accuracy                           0.96        74\n",
      "    macro avg       0.91      0.90      0.91        74\n",
      " weighted avg       0.96      0.96      0.96        74\n",
      "\n"
     ]
    }
   ],
   "source": [
    "from sklearn.metrics import classification_report\n",
    "print(classification_report(y_test_integer_array, y_pred,target_names=df['category'].unique()))"
   ]
  },
  {
   "cell_type": "code",
   "execution_count": null,
   "id": "aaf451ae",
   "metadata": {},
   "outputs": [],
   "source": []
  }
 ],
 "metadata": {
  "kernelspec": {
   "display_name": "Python 3 (ipykernel)",
   "language": "python",
   "name": "python3"
  },
  "language_info": {
   "codemirror_mode": {
    "name": "ipython",
    "version": 3
   },
   "file_extension": ".py",
   "mimetype": "text/x-python",
   "name": "python",
   "nbconvert_exporter": "python",
   "pygments_lexer": "ipython3",
   "version": "3.11.3"
  }
 },
 "nbformat": 4,
 "nbformat_minor": 5
}
